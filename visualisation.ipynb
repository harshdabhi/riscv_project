{
 "cells": [
  {
   "cell_type": "code",
   "execution_count": null,
   "metadata": {},
   "outputs": [
    {
     "name": "stdout",
     "output_type": "stream",
     "text": [
      "Requirement already satisfied: pandas in /usr/local/lib/python3.10/dist-packages (2.2.3)\n",
      "Requirement already satisfied: numpy>=1.22.4 in /usr/local/lib/python3.10/dist-packages (from pandas) (2.2.3)\n",
      "Requirement already satisfied: python-dateutil>=2.8.2 in /root/.local/lib/python3.10/site-packages (from pandas) (2.9.0.post0)\n",
      "Requirement already satisfied: pytz>=2020.1 in /usr/local/lib/python3.10/dist-packages (from pandas) (2025.1)\n",
      "Requirement already satisfied: tzdata>=2022.7 in /usr/local/lib/python3.10/dist-packages (from pandas) (2025.1)\n",
      "Requirement already satisfied: six>=1.5 in /root/.local/lib/python3.10/site-packages (from python-dateutil>=2.8.2->pandas) (1.17.0)\n",
      "\u001b[33mWARNING: Running pip as the 'root' user can result in broken permissions and conflicting behaviour with the system package manager, possibly rendering your system unusable. It is recommended to use a virtual environment instead: https://pip.pypa.io/warnings/venv. Use the --root-user-action option if you know what you are doing and want to suppress this warning.\u001b[0m\u001b[33m\n",
      "\u001b[0m"
     ]
    }
   ],
   "source": [
    "# installation of important libraries for visualisation\n",
    "!pip3 install pandas"
   ]
  },
  {
   "cell_type": "code",
   "execution_count": 4,
   "metadata": {},
   "outputs": [],
   "source": [
    "import pandas as pd"
   ]
  },
  {
   "cell_type": "code",
   "execution_count": 7,
   "metadata": {},
   "outputs": [
    {
     "data": {
      "application/vnd.microsoft.datawrangler.viewer.v0+json": {
       "columns": [
        {
         "name": "index",
         "rawType": "int64",
         "type": "integer"
        },
        {
         "name": "RAM Utilization",
         "rawType": "float64",
         "type": "float"
        },
        {
         "name": " RAM Utilization (again)",
         "rawType": "float64",
         "type": "float"
        },
        {
         "name": " Max RAM used (KB)",
         "rawType": "int64",
         "type": "integer"
        },
        {
         "name": " Total RAM available (MB)",
         "rawType": "int64",
         "type": "integer"
        },
        {
         "name": " User CPU time",
         "rawType": "float64",
         "type": "float"
        },
        {
         "name": " System CPU time",
         "rawType": "float64",
         "type": "float"
        },
        {
         "name": " Total CPU time",
         "rawType": "float64",
         "type": "float"
        },
        {
         "name": " CPU time used (seconds)",
         "rawType": "float64",
         "type": "float"
        },
        {
         "name": " Throughput (bytes/sec)",
         "rawType": "float64",
         "type": "float"
        },
        {
         "name": "CPU eff",
         "rawType": "float64",
         "type": "float"
        },
        {
         "name": " RAM eff",
         "rawType": "float64",
         "type": "float"
        },
        {
         "name": " SHA-256 Hash (hex)",
         "rawType": "object",
         "type": "string"
        }
       ],
       "conversionMethod": "pd.DataFrame",
       "ref": "e283fd21-cb6e-4422-87d7-34508d090fc1",
       "rows": [
        [
         "0",
         "0.11",
         "0.11",
         "8584",
         "7851",
         "0.453272",
         "0.009005",
         "0.0",
         "0.001266",
         "8688.78357",
         "68631.781756",
         "8137560.014664",
         " 657acba41d182f05a149c6f3740fe18377c2310e73e4e444039ddb17b15d872e"
        ],
        [
         "1",
         "0.11",
         "0.11",
         "8588",
         "7851",
         "0.451935",
         "0.006983",
         "0.0",
         "0.001176",
         "9353.741497",
         "79538.618168",
         "8756252.198131",
         " 657acba41d182f05a149c6f3740fe18377c2310e73e4e444039ddb17b15d872e"
        ],
        [
         "2",
         "0.11",
         "0.11",
         "8588",
         "7851",
         "0.450916",
         "0.008186",
         "0.0",
         "0.001447",
         "7601.935038",
         "52535.83302",
         "7116345.946788",
         " 657acba41d182f05a149c6f3740fe18377c2310e73e4e444039ddb17b15d872e"
        ],
        [
         "3",
         "0.11",
         "0.11",
         "8584",
         "7851",
         "0.440284",
         "0.007064",
         "0.0",
         "0.000783",
         "14048.53129",
         "179419.301276",
         "13157280.94325",
         " 657acba41d182f05a149c6f3740fe18377c2310e73e4e444039ddb17b15d872e"
        ]
       ],
       "shape": {
        "columns": 12,
        "rows": 4
       }
      },
      "text/html": [
       "<div>\n",
       "<style scoped>\n",
       "    .dataframe tbody tr th:only-of-type {\n",
       "        vertical-align: middle;\n",
       "    }\n",
       "\n",
       "    .dataframe tbody tr th {\n",
       "        vertical-align: top;\n",
       "    }\n",
       "\n",
       "    .dataframe thead th {\n",
       "        text-align: right;\n",
       "    }\n",
       "</style>\n",
       "<table border=\"1\" class=\"dataframe\">\n",
       "  <thead>\n",
       "    <tr style=\"text-align: right;\">\n",
       "      <th></th>\n",
       "      <th>RAM Utilization</th>\n",
       "      <th>RAM Utilization (again)</th>\n",
       "      <th>Max RAM used (KB)</th>\n",
       "      <th>Total RAM available (MB)</th>\n",
       "      <th>User CPU time</th>\n",
       "      <th>System CPU time</th>\n",
       "      <th>Total CPU time</th>\n",
       "      <th>CPU time used (seconds)</th>\n",
       "      <th>Throughput (bytes/sec)</th>\n",
       "      <th>CPU eff</th>\n",
       "      <th>RAM eff</th>\n",
       "      <th>SHA-256 Hash (hex)</th>\n",
       "    </tr>\n",
       "  </thead>\n",
       "  <tbody>\n",
       "    <tr>\n",
       "      <th>0</th>\n",
       "      <td>0.11</td>\n",
       "      <td>0.11</td>\n",
       "      <td>8584</td>\n",
       "      <td>7851</td>\n",
       "      <td>0.453272</td>\n",
       "      <td>0.009005</td>\n",
       "      <td>0.0</td>\n",
       "      <td>0.001266</td>\n",
       "      <td>8688.783570</td>\n",
       "      <td>68631.781756</td>\n",
       "      <td>8.137560e+06</td>\n",
       "      <td>657acba41d182f05a149c6f3740fe18377c2310e73e4e...</td>\n",
       "    </tr>\n",
       "    <tr>\n",
       "      <th>1</th>\n",
       "      <td>0.11</td>\n",
       "      <td>0.11</td>\n",
       "      <td>8588</td>\n",
       "      <td>7851</td>\n",
       "      <td>0.451935</td>\n",
       "      <td>0.006983</td>\n",
       "      <td>0.0</td>\n",
       "      <td>0.001176</td>\n",
       "      <td>9353.741497</td>\n",
       "      <td>79538.618168</td>\n",
       "      <td>8.756252e+06</td>\n",
       "      <td>657acba41d182f05a149c6f3740fe18377c2310e73e4e...</td>\n",
       "    </tr>\n",
       "    <tr>\n",
       "      <th>2</th>\n",
       "      <td>0.11</td>\n",
       "      <td>0.11</td>\n",
       "      <td>8588</td>\n",
       "      <td>7851</td>\n",
       "      <td>0.450916</td>\n",
       "      <td>0.008186</td>\n",
       "      <td>0.0</td>\n",
       "      <td>0.001447</td>\n",
       "      <td>7601.935038</td>\n",
       "      <td>52535.833020</td>\n",
       "      <td>7.116346e+06</td>\n",
       "      <td>657acba41d182f05a149c6f3740fe18377c2310e73e4e...</td>\n",
       "    </tr>\n",
       "    <tr>\n",
       "      <th>3</th>\n",
       "      <td>0.11</td>\n",
       "      <td>0.11</td>\n",
       "      <td>8584</td>\n",
       "      <td>7851</td>\n",
       "      <td>0.440284</td>\n",
       "      <td>0.007064</td>\n",
       "      <td>0.0</td>\n",
       "      <td>0.000783</td>\n",
       "      <td>14048.531290</td>\n",
       "      <td>179419.301276</td>\n",
       "      <td>1.315728e+07</td>\n",
       "      <td>657acba41d182f05a149c6f3740fe18377c2310e73e4e...</td>\n",
       "    </tr>\n",
       "  </tbody>\n",
       "</table>\n",
       "</div>"
      ],
      "text/plain": [
       "   RAM Utilization   RAM Utilization (again)   Max RAM used (KB)  \\\n",
       "0             0.11                      0.11                8584   \n",
       "1             0.11                      0.11                8588   \n",
       "2             0.11                      0.11                8588   \n",
       "3             0.11                      0.11                8584   \n",
       "\n",
       "    Total RAM available (MB)   User CPU time   System CPU time  \\\n",
       "0                       7851        0.453272          0.009005   \n",
       "1                       7851        0.451935          0.006983   \n",
       "2                       7851        0.450916          0.008186   \n",
       "3                       7851        0.440284          0.007064   \n",
       "\n",
       "    Total CPU time   CPU time used (seconds)   Throughput (bytes/sec)  \\\n",
       "0              0.0                  0.001266              8688.783570   \n",
       "1              0.0                  0.001176              9353.741497   \n",
       "2              0.0                  0.001447              7601.935038   \n",
       "3              0.0                  0.000783             14048.531290   \n",
       "\n",
       "         CPU eff       RAM eff  \\\n",
       "0   68631.781756  8.137560e+06   \n",
       "1   79538.618168  8.756252e+06   \n",
       "2   52535.833020  7.116346e+06   \n",
       "3  179419.301276  1.315728e+07   \n",
       "\n",
       "                                  SHA-256 Hash (hex)  \n",
       "0   657acba41d182f05a149c6f3740fe18377c2310e73e4e...  \n",
       "1   657acba41d182f05a149c6f3740fe18377c2310e73e4e...  \n",
       "2   657acba41d182f05a149c6f3740fe18377c2310e73e4e...  \n",
       "3   657acba41d182f05a149c6f3740fe18377c2310e73e4e...  "
      ]
     },
     "execution_count": 7,
     "metadata": {},
     "output_type": "execute_result"
    }
   ],
   "source": [
    "pd.read_csv('./utilization_and_performance_output.csv')"
   ]
  },
  {
   "cell_type": "code",
   "execution_count": null,
   "metadata": {},
   "outputs": [],
   "source": []
  }
 ],
 "metadata": {
  "kernelspec": {
   "display_name": "Python 3",
   "language": "python",
   "name": "python3"
  },
  "language_info": {
   "codemirror_mode": {
    "name": "ipython",
    "version": 3
   },
   "file_extension": ".py",
   "mimetype": "text/x-python",
   "name": "python",
   "nbconvert_exporter": "python",
   "pygments_lexer": "ipython3",
   "version": "3.10.12"
  }
 },
 "nbformat": 4,
 "nbformat_minor": 2
}
